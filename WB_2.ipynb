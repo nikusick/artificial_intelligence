{
 "cells": [
  {
   "cell_type": "markdown",
   "source": [
    "1.3.1 Задание\n",
    "\n",
    "Задача:\n",
    "Создать 8x8 матрицу и заполнить её в шахматном порядке нулями и\n",
    "единицами.\n",
    "Решение:"
   ],
   "metadata": {
    "collapsed": false,
    "pycharm": {
     "name": "#%% md\n"
    }
   }
  },
  {
   "cell_type": "code",
   "execution_count": 1,
   "outputs": [
    {
     "name": "stdout",
     "output_type": "stream",
     "text": [
      "[[0 1 0 1 0 1 0 1]\n",
      " [1 0 1 0 1 0 1 0]\n",
      " [0 1 0 1 0 1 0 1]\n",
      " [1 0 1 0 1 0 1 0]\n",
      " [0 1 0 1 0 1 0 1]\n",
      " [1 0 1 0 1 0 1 0]\n",
      " [0 1 0 1 0 1 0 1]\n",
      " [1 0 1 0 1 0 1 0]]\n"
     ]
    }
   ],
   "source": [
    "import numpy as np\n",
    "\n",
    "array = np.zeros((8, 8), dtype=int)\n",
    "array[1::2, ::2] = 1\n",
    "array[::2, 1::2] = 1\n",
    "print(array)"
   ],
   "metadata": {
    "collapsed": false,
    "pycharm": {
     "name": "#%%\n"
    }
   }
  },
  {
   "cell_type": "markdown",
   "source": [
    "1.3.2 Задание\n",
    "\n",
    "Задача:\n",
    "Создать 5x5 матрицу со значениями в строках от 0 до 4. Для создания\n",
    "необходимо использовать функцию arrange.\n",
    "Решение:"
   ],
   "metadata": {
    "collapsed": false,
    "pycharm": {
     "name": "#%% md\n"
    }
   }
  },
  {
   "cell_type": "code",
   "execution_count": 2,
   "outputs": [
    {
     "name": "stdout",
     "output_type": "stream",
     "text": [
      "[[0. 1. 2. 3. 4.]\n",
      " [0. 1. 2. 3. 4.]\n",
      " [0. 1. 2. 3. 4.]\n",
      " [0. 1. 2. 3. 4.]\n",
      " [0. 1. 2. 3. 4.]]\n"
     ]
    }
   ],
   "source": [
    "import numpy as np\n",
    "\n",
    "array = np.zeros((5, 5))\n",
    "array += np.arange(5)\n",
    "print(array)"
   ],
   "metadata": {
    "collapsed": false,
    "pycharm": {
     "name": "#%%\n"
    }
   }
  },
  {
   "cell_type": "markdown",
   "source": [
    "1.3.3 Задание\n",
    "\n",
    "Задача:\n",
    "Создать массив 3x3x3 со случайными значениями.\n",
    "Решение:"
   ],
   "metadata": {
    "collapsed": false,
    "pycharm": {
     "name": "#%% md\n"
    }
   }
  },
  {
   "cell_type": "code",
   "execution_count": 3,
   "outputs": [
    {
     "name": "stdout",
     "output_type": "stream",
     "text": [
      "[[[0.18055588 0.83119617 0.69117548]\n",
      "  [0.28295413 0.65091873 0.4510411 ]\n",
      "  [0.79003846 0.35051559 0.55118701]]\n",
      "\n",
      " [[0.53692442 0.22721014 0.89131782]\n",
      "  [0.74359691 0.96356555 0.28011347]\n",
      "  [0.75915551 0.790441   0.55694061]]\n",
      "\n",
      " [[0.55370526 0.16396929 0.05939501]\n",
      "  [0.25349574 0.81183742 0.93457212]\n",
      "  [0.74935454 0.67204587 0.50850374]]]\n"
     ]
    }
   ],
   "source": [
    "import numpy as np\n",
    "\n",
    "array = np.random.random((3, 3, 3))\n",
    "print(array)"
   ],
   "metadata": {
    "collapsed": false,
    "pycharm": {
     "name": "#%%\n"
    }
   }
  },
  {
   "cell_type": "markdown",
   "source": [
    "1.3.4 Задание\n",
    "\n",
    "Задача:\n",
    "Создать матрицу с 0 внутри, и 1 на границах.\n",
    "Решение:"
   ],
   "metadata": {
    "collapsed": false,
    "pycharm": {
     "name": "#%% md\n"
    }
   }
  },
  {
   "cell_type": "code",
   "execution_count": 4,
   "outputs": [
    {
     "name": "stdout",
     "output_type": "stream",
     "text": [
      "[[1. 1. 1. 1. 1.]\n",
      " [1. 0. 0. 0. 1.]\n",
      " [1. 0. 0. 0. 1.]\n",
      " [1. 0. 0. 0. 1.]\n",
      " [1. 1. 1. 1. 1.]]\n"
     ]
    }
   ],
   "source": [
    "import numpy as np\n",
    "\n",
    "array = np.ones((5, 5))\n",
    "array[1:-1, 1:-1] = 0\n",
    "print(array)"
   ],
   "metadata": {
    "collapsed": false,
    "pycharm": {
     "name": "#%%\n"
    }
   }
  },
  {
   "cell_type": "markdown",
   "source": [
    "1.3.5 Задание\n",
    "\n",
    "Задача:\n",
    "Создайте массив и отсортируйте его по убыванию.\n",
    "Решение:"
   ],
   "metadata": {
    "collapsed": false,
    "pycharm": {
     "name": "#%% md\n"
    }
   }
  },
  {
   "cell_type": "code",
   "execution_count": 8,
   "outputs": [
    {
     "name": "stdout",
     "output_type": "stream",
     "text": [
      "[8, 5, 1, 1, 1]\n"
     ]
    }
   ],
   "source": [
    "import numpy as np\n",
    "\n",
    "array = np.random.randint(1, 10, 5)\n",
    "array = sorted(array, reverse=True)\n",
    "print(array)"
   ],
   "metadata": {
    "collapsed": false,
    "pycharm": {
     "name": "#%%\n"
    }
   }
  },
  {
   "cell_type": "markdown",
   "source": [
    "1.3.6 Задание\n",
    "\n",
    "Задача:\n",
    "Создайте матрицу, выведите ее форму, размер и размерность.\n",
    "Решение:"
   ],
   "metadata": {
    "collapsed": false,
    "pycharm": {
     "name": "#%% md\n"
    }
   }
  },
  {
   "cell_type": "code",
   "execution_count": 9,
   "outputs": [
    {
     "name": "stdout",
     "output_type": "stream",
     "text": [
      "[[0 1 2]\n",
      " [3 4 5]\n",
      " [6 7 8]]\n",
      "Форма: (3, 3)\n",
      "Размерность: 36\n",
      "Размер: (3, 3)\n"
     ]
    }
   ],
   "source": [
    "import numpy as np\n",
    "\n",
    "array = np.arange(9).reshape(3, 3)\n",
    "print(array)\n",
    "print('Форма:', array.shape)\n",
    "print('Размерность:', array.itemsize * array.size)\n",
    "print('Размер:', array.shape)"
   ],
   "metadata": {
    "collapsed": false,
    "pycharm": {
     "name": "#%%\n"
    }
   }
  },
  {
   "cell_type": "markdown",
   "source": [
    "2.3.1 Задание\n",
    "\n",
    "Задача:\n",
    "Найдитн евклидово расстояние между двумя Series (точками) a и b, не\n",
    "используя встроенную формулу.\n",
    "Решение:"
   ],
   "metadata": {
    "collapsed": false,
    "pycharm": {
     "name": "#%% md\n"
    }
   }
  },
  {
   "cell_type": "code",
   "execution_count": 10,
   "outputs": [
    {
     "name": "stdout",
     "output_type": "stream",
     "text": [
      "6.324555320336759\n"
     ]
    }
   ],
   "source": [
    "import pandas as pd\n",
    "import numpy as np\n",
    "\n",
    "s1 = pd.Series([1, 2, 3, 4, 5])\n",
    "s2 = pd.Series([5, 4, 3, 2, 1])\n",
    "distance = np.sqrt(sum(pow(a-b, 2) for a, b in zip(s1, s2)))\n",
    "print(distance)"
   ],
   "metadata": {
    "collapsed": false,
    "pycharm": {
     "name": "#%%\n"
    }
   }
  },
  {
   "cell_type": "markdown",
   "source": [
    "2.3.2 Задание\n",
    "\n",
    "Задача:\n",
    "Найдите в Интернете ссылку на любой csv файл и сформируйте из него\n",
    "фрейм данных\n",
    "Решение:"
   ],
   "metadata": {
    "collapsed": false,
    "pycharm": {
     "name": "#%% md\n"
    }
   }
  },
  {
   "cell_type": "code",
   "execution_count": 11,
   "outputs": [
    {
     "name": "stdout",
     "output_type": "stream",
     "text": [
      "       carat        cut color clarity  depth  table     x     y     z  price\n",
      "0       0.23      Ideal     E     SI2   61.5   55.0  3.95  3.98  2.43    326\n",
      "1       0.21    Premium     E     SI1   59.8   61.0  3.89  3.84  2.31    326\n",
      "2       0.23       Good     E     VS1   56.9   65.0  4.05  4.07  2.31    327\n",
      "3       0.29    Premium     I     VS2   62.4   58.0  4.20  4.23  2.63    334\n",
      "4       0.31       Good     J     SI2   63.3   58.0  4.34  4.35  2.75    335\n",
      "...      ...        ...   ...     ...    ...    ...   ...   ...   ...    ...\n",
      "53935   0.72      Ideal     D     SI1   60.8   57.0  5.75  5.76  3.50   2757\n",
      "53936   0.72       Good     D     SI1   63.1   55.0  5.69  5.75  3.61   2757\n",
      "53937   0.70  Very Good     D     SI1   62.8   60.0  5.66  5.68  3.56   2757\n",
      "53938   0.86    Premium     H     SI2   61.0   58.0  6.15  6.12  3.74   2757\n",
      "53939   0.75      Ideal     D     SI2   62.2   55.0  5.83  5.87  3.64   2757\n",
      "\n",
      "[53940 rows x 10 columns]\n"
     ]
    }
   ],
   "source": [
    "import pandas as pd\n",
    "\n",
    "url = 'https://raw.githubusercontent.com/akmand/datasets/main/diamonds.csv'\n",
    "dataframe = pd.read_csv(url)\n",
    "print(dataframe)"
   ],
   "metadata": {
    "collapsed": false,
    "pycharm": {
     "name": "#%%\n"
    }
   }
  },
  {
   "cell_type": "markdown",
   "source": [
    "2.3.3 Задание\n",
    "\n",
    "Задача:\n",
    "Проделайте с получившемся из предыдущего задания фреймом данных\n",
    "те же действия, что и в примерах 2.2.5-2.2.7.\n",
    "Решение:"
   ],
   "metadata": {
    "collapsed": false,
    "pycharm": {
     "name": "#%% md\n"
    }
   }
  },
  {
   "cell_type": "code",
   "execution_count": 12,
   "outputs": [
    {
     "name": "stdout",
     "output_type": "stream",
     "text": [
      "Head:\n",
      "    carat      cut color clarity  depth  table     x     y     z  price\n",
      "0   0.23    Ideal     E     SI2   61.5   55.0  3.95  3.98  2.43    326\n",
      "1   0.21  Premium     E     SI1   59.8   61.0  3.89  3.84  2.31    326\n",
      "Tail:\n",
      "        carat        cut color clarity  depth  table     x     y     z  price\n",
      "53937   0.70  Very Good     D     SI1   62.8   60.0  5.66  5.68  3.56   2757\n",
      "53938   0.86    Premium     H     SI2   61.0   58.0  6.15  6.12  3.74   2757\n",
      "53939   0.75      Ideal     D     SI2   62.2   55.0  5.83  5.87  3.64   2757\n",
      "Shape:\n",
      " (53940, 10)\n",
      "Describe:\n",
      "               carat         depth         table             x             y  \\\n",
      "count  53940.000000  53940.000000  53940.000000  53940.000000  53940.000000   \n",
      "mean       0.797940     61.749405     57.457184      5.731157      5.734526   \n",
      "std        0.474011      1.432621      2.234491      1.121761      1.142135   \n",
      "min        0.200000     43.000000     43.000000      0.000000      0.000000   \n",
      "25%        0.400000     61.000000     56.000000      4.710000      4.720000   \n",
      "50%        0.700000     61.800000     57.000000      5.700000      5.710000   \n",
      "75%        1.040000     62.500000     59.000000      6.540000      6.540000   \n",
      "max        5.010000     79.000000     95.000000     10.740000     58.900000   \n",
      "\n",
      "                  z         price  \n",
      "count  53940.000000  53940.000000  \n",
      "mean       3.538734   3932.799722  \n",
      "std        0.705699   3989.439738  \n",
      "min        0.000000    326.000000  \n",
      "25%        2.910000    950.000000  \n",
      "50%        3.530000   2401.000000  \n",
      "75%        4.040000   5324.250000  \n",
      "max       31.800000  18823.000000  \n",
      "Iloc:\n",
      "    carat      cut color clarity  depth  table     x     y     z  price\n",
      "1   0.21  Premium     E     SI1   59.8   61.0  3.89  3.84  2.31    326\n",
      "2   0.23     Good     E     VS1   56.9   65.0  4.05  4.07  2.31    327\n",
      "3   0.29  Premium     I     VS2   62.4   58.0  4.20  4.23  2.63    334\n",
      "Diamonds with color \"E\"\n",
      "        carat        cut color clarity  depth  table     x     y     z  price\n",
      "0       0.23      Ideal     E     SI2   61.5   55.0  3.95  3.98  2.43    326\n",
      "1       0.21    Premium     E     SI1   59.8   61.0  3.89  3.84  2.31    326\n",
      "2       0.23       Good     E     VS1   56.9   65.0  4.05  4.07  2.31    327\n",
      "8       0.22       Fair     E     VS2   65.1   61.0  3.87  3.78  2.49    337\n",
      "14      0.20    Premium     E     SI2   60.2   62.0  3.79  3.75  2.27    345\n",
      "...      ...        ...   ...     ...    ...    ...   ...   ...   ...    ...\n",
      "53926   0.71      Ideal     E     SI1   61.9   56.0  5.71  5.73  3.54   2756\n",
      "53928   0.79    Premium     E     SI2   61.4   58.0  6.03  5.96  3.68   2756\n",
      "53930   0.71    Premium     E     SI1   60.5   55.0  5.79  5.74  3.49   2756\n",
      "53932   0.70  Very Good     E     VS2   60.5   59.0  5.71  5.76  3.47   2757\n",
      "53933   0.70  Very Good     E     VS2   61.2   59.0  5.69  5.72  3.49   2757\n",
      "\n",
      "[9797 rows x 10 columns]\n"
     ]
    }
   ],
   "source": [
    "import pandas as pd\n",
    "\n",
    "url = 'https://raw.githubusercontent.com/akmand/datasets/main/diamonds.csv'\n",
    "dataframe = pd.read_csv(url)\n",
    "print('Head:\\n', dataframe.head(2))\n",
    "print('Tail:\\n', dataframe.tail(3))\n",
    "print('Shape:\\n', dataframe.shape)\n",
    "print('Describe:\\n', dataframe.describe())\n",
    "\n",
    "print('Iloc:\\n', dataframe.iloc[1:4])\n",
    "print('Diamonds with color \"E\"\\n', dataframe[dataframe['color'] == 'E'])"
   ],
   "metadata": {
    "collapsed": false,
    "pycharm": {
     "name": "#%%\n"
    }
   }
  },
  {
   "cell_type": "markdown",
   "source": [
    "3.2.2 Задание\n",
    "\n",
    "Задача:\n",
    "Необходимо выполнить нормализацию первого числового признака\n",
    "(sepal_length_cm) с использованием минимаксного преобразования, а\n",
    "второго (sepal_width_cm) с задействованием z-масштабирования.\n",
    "Решение:"
   ],
   "metadata": {
    "collapsed": false,
    "pycharm": {
     "name": "#%% md\n"
    }
   }
  },
  {
   "cell_type": "code",
   "execution_count": 14,
   "outputs": [
    {
     "name": "stdout",
     "output_type": "stream",
     "text": [
      "     sepal_length_cm  sepal_width_cm  petal_length_cm  petal_width_cm  \\\n",
      "0                5.1             3.5              1.4             0.2   \n",
      "1                4.9             3.0              1.4             0.2   \n",
      "2                4.7             3.2              1.3             0.2   \n",
      "3                4.6             3.1              1.5             0.2   \n",
      "4                5.0             3.6              1.4             0.2   \n",
      "..               ...             ...              ...             ...   \n",
      "145              6.7             3.0              5.2             2.3   \n",
      "146              6.3             2.5              5.0             1.9   \n",
      "147              6.5             3.0              5.2             2.0   \n",
      "148              6.2             3.4              5.4             2.3   \n",
      "149              5.9             3.0              5.1             1.8   \n",
      "\n",
      "       species  \n",
      "0       setosa  \n",
      "1       setosa  \n",
      "2       setosa  \n",
      "3       setosa  \n",
      "4       setosa  \n",
      "..         ...  \n",
      "145  virginica  \n",
      "146  virginica  \n",
      "147  virginica  \n",
      "148  virginica  \n",
      "149  virginica  \n",
      "\n",
      "[150 rows x 5 columns]\n",
      "     sepal_length_cm  sepal_width_cm  petal_length_cm  petal_width_cm  \\\n",
      "0           0.222222             3.5              1.4             0.2   \n",
      "1           0.166667             3.0              1.4             0.2   \n",
      "2           0.111111             3.2              1.3             0.2   \n",
      "3           0.083333             3.1              1.5             0.2   \n",
      "4           0.194444             3.6              1.4             0.2   \n",
      "..               ...             ...              ...             ...   \n",
      "145         0.666667             3.0              5.2             2.3   \n",
      "146         0.555556             2.5              5.0             1.9   \n",
      "147         0.611111             3.0              5.2             2.0   \n",
      "148         0.527778             3.4              5.4             2.3   \n",
      "149         0.444444             3.0              5.1             1.8   \n",
      "\n",
      "       species  \n",
      "0       setosa  \n",
      "1       setosa  \n",
      "2       setosa  \n",
      "3       setosa  \n",
      "4       setosa  \n",
      "..         ...  \n",
      "145  virginica  \n",
      "146  virginica  \n",
      "147  virginica  \n",
      "148  virginica  \n",
      "149  virginica  \n",
      "\n",
      "[150 rows x 5 columns]\n",
      "     sepal_length_cm  sepal_width_cm  petal_length_cm  petal_width_cm  \\\n",
      "0           0.222222        1.028611              1.4             0.2   \n",
      "1           0.166667       -0.124540              1.4             0.2   \n",
      "2           0.111111        0.336720              1.3             0.2   \n",
      "3           0.083333        0.106090              1.5             0.2   \n",
      "4           0.194444        1.259242              1.4             0.2   \n",
      "..               ...             ...              ...             ...   \n",
      "145         0.666667       -0.124540              5.2             2.3   \n",
      "146         0.555556       -1.277692              5.0             1.9   \n",
      "147         0.611111       -0.124540              5.2             2.0   \n",
      "148         0.527778        0.797981              5.4             2.3   \n",
      "149         0.444444       -0.124540              5.1             1.8   \n",
      "\n",
      "       species  \n",
      "0       setosa  \n",
      "1       setosa  \n",
      "2       setosa  \n",
      "3       setosa  \n",
      "4       setosa  \n",
      "..         ...  \n",
      "145  virginica  \n",
      "146  virginica  \n",
      "147  virginica  \n",
      "148  virginica  \n",
      "149  virginica  \n",
      "\n",
      "[150 rows x 5 columns]\n"
     ]
    }
   ],
   "source": [
    "import pandas as pd\n",
    "from sklearn.preprocessing import MinMaxScaler\n",
    "\n",
    "url = 'https://raw.githubusercontent.com/akmand/datasets/master/iris.csv'\n",
    "dataframe = pd.read_csv(url)\n",
    "print(dataframe)\n",
    "\n",
    "scaler = MinMaxScaler()\n",
    "dataframe[['sepal_length_cm']] = scaler.fit_transform(dataframe[['sepal_length_cm']])\n",
    "print(dataframe)\n",
    "\n",
    "dataframe['sepal_width_cm'] = (dataframe['sepal_width_cm'] - dataframe['sepal_width_cm'].mean()) \\\n",
    "                              / dataframe['sepal_width_cm'].std()\n",
    "\n",
    "\n",
    "print(dataframe)"
   ],
   "metadata": {
    "collapsed": false,
    "pycharm": {
     "name": "#%%\n"
    }
   }
  }
 ],
 "metadata": {
  "kernelspec": {
   "display_name": "Python 3",
   "language": "python",
   "name": "python3"
  },
  "language_info": {
   "codemirror_mode": {
    "name": "ipython",
    "version": 2
   },
   "file_extension": ".py",
   "mimetype": "text/x-python",
   "name": "python",
   "nbconvert_exporter": "python",
   "pygments_lexer": "ipython2",
   "version": "2.7.6"
  }
 },
 "nbformat": 4,
 "nbformat_minor": 0
}