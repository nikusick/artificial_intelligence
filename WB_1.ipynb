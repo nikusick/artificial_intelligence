{
 "cells": [
  {
   "cell_type": "markdown",
   "source": [
    "1.3 Задание\n",
    "\n",
    "Задача:\n",
    "Выведите на печать и определите тип переменной.\n",
    "Решение:"
   ],
   "metadata": {
    "collapsed": false,
    "pycharm": {
     "name": "#%% md\n"
    }
   }
  },
  {
   "cell_type": "code",
   "execution_count": 1,
   "outputs": [
    {
     "name": "stdout",
     "output_type": "stream",
     "text": [
      "| Value                          | Type            |\n",
      "|--------------------------------+-----------------|\n",
      "| True                           | <class 'bool'>  |\n",
      "| {8, 1, 3, 7}                   | <class 'set'>   |\n",
      "| {2, 4, 5, 'apple', 10}         | <class 'set'>   |\n",
      "| set()                          | <class 'set'>   |\n",
      "| ('Антонова Антонина', 34, 'ж') | <class 'tuple'> |\n",
      "| type                           | <class 'str'>   |\n",
      "| [1, 'title', 2, 'content']     | <class 'list'>  |\n"
     ]
    }
   ],
   "source": [
    "from tabulate import tabulate\n",
    "\n",
    "x = 5 >= 2\n",
    "A = {1, 3, 7, 8}\n",
    "B = {2, 4, 5, 10, 'apple'}\n",
    "C = A & B\n",
    "df = 'Антонова Антонина', 34, 'ж'\n",
    "z = 'type'\n",
    "D = [1, 'title', 2, 'content']\n",
    "\n",
    "print(\n",
    "    tabulate(\n",
    "        [[x, type(x)], [A, type(A)],\n",
    "         [B, type(B)], [C, type(C)],\n",
    "         [df, type(df)], [z, type(z)], [D, type(D)]],\n",
    "        headers=['Value', 'Type'], tablefmt='orgtbl'\n",
    "    )\n",
    ")"
   ],
   "metadata": {
    "collapsed": false,
    "pycharm": {
     "name": "#%%\n"
    }
   }
  },
  {
   "cell_type": "markdown",
   "source": [
    "2.3 Задание\n",
    "\n",
    "Задача:\n",
    "Напишите код. Задается х, напечатать какому из интервалов принадлежит: (-infinity, -5), [-5, 5] или от (5, +infinity)\n",
    "Решение:"
   ],
   "metadata": {
    "collapsed": false,
    "pycharm": {
     "name": "#%% md\n"
    }
   }
  },
  {
   "cell_type": "code",
   "execution_count": 2,
   "outputs": [
    {
     "name": "stdout",
     "output_type": "stream",
     "text": [
      "x больше 5\n"
     ]
    }
   ],
   "source": [
    "x = int(input('Введите x: '))\n",
    "if x > 5:\n",
    "    print('x больше 5')\n",
    "elif x < -5:\n",
    "    print('x меньше -5')\n",
    "else:\n",
    "    print('x принадлежит [-5, 5]')"
   ],
   "metadata": {
    "collapsed": false,
    "pycharm": {
     "name": "#%%\n"
    }
   }
  },
  {
   "cell_type": "markdown",
   "source": [
    "3.3.1 Задание\n",
    "\n",
    "Задача:\n",
    "Вывести все числа от 10 до 1 с шагом -3\n",
    "Решение:"
   ],
   "metadata": {
    "collapsed": false,
    "pycharm": {
     "name": "#%% md\n"
    }
   }
  },
  {
   "cell_type": "code",
   "execution_count": 3,
   "outputs": [
    {
     "name": "stdout",
     "output_type": "stream",
     "text": [
      "10\n",
      "7\n",
      "4\n",
      "1\n"
     ]
    }
   ],
   "source": [
    "x = 10\n",
    "while x > 0:\n",
    "    print(x)\n",
    "    x -= 3"
   ],
   "metadata": {
    "collapsed": false,
    "pycharm": {
     "name": "#%%\n"
    }
   }
  },
  {
   "cell_type": "markdown",
   "source": [
    "3.3.2 Задание\n",
    "\n",
    "Задача:\n",
    "При решении задач машинного обучения часто в качестве объектов\n",
    "исследования выступает человек. Создайте список значимых\n",
    "характеристик (признаков), идентифицирующих человека. Выведите\n",
    "список на экран.\n",
    "Решение:"
   ],
   "metadata": {
    "collapsed": false,
    "pycharm": {
     "name": "#%% md\n"
    }
   }
  },
  {
   "cell_type": "code",
   "execution_count": 4,
   "outputs": [
    {
     "name": "stdout",
     "output_type": "stream",
     "text": [
      "пол\n",
      "раса\n",
      "возраст\n",
      "длина тела\n",
      "группа крови\n"
     ]
    }
   ],
   "source": [
    "characteristics = ['пол', 'раса', 'возраст', 'длина тела', 'группа крови']\n",
    "\n",
    "print('\\n'.join(characteristics))"
   ],
   "metadata": {
    "collapsed": false,
    "pycharm": {
     "name": "#%%\n"
    }
   }
  },
  {
   "cell_type": "markdown",
   "source": [
    "3.3.3 Задание\n",
    "\n",
    "Задача:\n",
    "Создать список чисел от 2 до 15 с шагом 1.\n",
    "Решение:"
   ],
   "metadata": {
    "collapsed": false,
    "pycharm": {
     "name": "#%% md\n"
    }
   }
  },
  {
   "cell_type": "code",
   "execution_count": 5,
   "outputs": [
    {
     "name": "stdout",
     "output_type": "stream",
     "text": [
      "[2, 3, 4, 5, 6, 7, 8, 9, 10, 11, 12, 13, 14, 15]\n"
     ]
    }
   ],
   "source": [
    "nums = range(2, 16, 1)\n",
    "print(list(nums))"
   ],
   "metadata": {
    "collapsed": false,
    "pycharm": {
     "name": "#%%\n"
    }
   }
  },
  {
   "cell_type": "markdown",
   "source": [
    "3.3.4 Задание\n",
    "\n",
    "Задача:\n",
    "Выведите числа от 105 до 1 с шагом -25\n",
    "Решение:"
   ],
   "metadata": {
    "collapsed": false,
    "pycharm": {
     "name": "#%% md\n"
    }
   }
  },
  {
   "cell_type": "code",
   "execution_count": 6,
   "outputs": [
    {
     "name": "stdout",
     "output_type": "stream",
     "text": [
      "105\n",
      "80\n",
      "55\n",
      "30\n",
      "5\n"
     ]
    }
   ],
   "source": [
    "for i in range(105, 0, -25):\n",
    "    print(i)"
   ],
   "metadata": {
    "collapsed": false,
    "pycharm": {
     "name": "#%%\n"
    }
   }
  },
  {
   "cell_type": "markdown",
   "source": [
    "3.3.5 Задание\n",
    "\n",
    "Задача:\n",
    "Срез. Напишите код, который все элементы массива x с четными\n",
    "индексами переставит в обратном порядке. Т.е. если x = [0, 1, 2, 3, 4,\n",
    "5, 6, 7, 8, 9], то код должен сформировать [8, 1, 6, 3, 4, 5, 2, 7, 0, 9].\n",
    "Решение:"
   ],
   "metadata": {
    "collapsed": false,
    "pycharm": {
     "name": "#%% md\n"
    }
   }
  },
  {
   "cell_type": "code",
   "execution_count": 7,
   "outputs": [
    {
     "name": "stdout",
     "output_type": "stream",
     "text": [
      "[8, 1, 6, 3, 4, 5, 2, 7, 0, 9]\n"
     ]
    }
   ],
   "source": [
    "x = [0, 1, 2, 3, 4, 5, 6, 7, 8, 9]\n",
    "x1 = x[-2::-2]\n",
    "x2 = x[1::2]\n",
    "x.clear()\n",
    "for i in range(len(x2)):\n",
    "    x.append(x1[i])\n",
    "    x.append(x2[i])\n",
    "print(x)"
   ],
   "metadata": {
    "collapsed": false,
    "pycharm": {
     "name": "#%%\n"
    }
   }
  },
  {
   "cell_type": "markdown",
   "source": [
    "4.3.1 Задание\n",
    "\n",
    "Задача:\n",
    "Задайте массив случайных значений из интервала(0; 1).\n",
    "Рассчитайте средние и медианные значения для массива, сравните\n",
    "результаты, какие выводы можно сделать о значениях?\n",
    "Постройте точечную диаграмму рассения полученного ряда.\n",
    "Решение:"
   ],
   "metadata": {
    "collapsed": false,
    "pycharm": {
     "name": "#%% md\n"
    }
   }
  },
  {
   "cell_type": "code",
   "execution_count": 8,
   "outputs": [
    {
     "name": "stdout",
     "output_type": "stream",
     "text": [
      "Массив: [0.93734509 0.76764622 0.58247724 0.82212354 0.33269811]\n",
      "Среднее значение: 0.688458039506326\n",
      "Медиана: 0.767646217883682\n"
     ]
    },
    {
     "data": {
      "text/plain": "<Figure size 640x480 with 1 Axes>",
      "image/png": "[encoded data removed]"
     },
     "metadata": {},
     "output_type": "display_data"
    }
   ],
   "source": [
    "import statistics\n",
    "import matplotlib.pyplot as plt\n",
    "import numpy\n",
    "\n",
    "massiv = numpy.random.random(5)\n",
    "print('Массив:', massiv)\n",
    "print('Среднее значение:', statistics.mean(massiv))\n",
    "print('Медиана:', statistics.median(massiv))\n",
    "plt.scatter([i for i in range(1, 6)], massiv)\n",
    "plt.show()"
   ],
   "metadata": {
    "collapsed": false,
    "pycharm": {
     "name": "#%%\n"
    }
   }
  },
  {
   "cell_type": "markdown",
   "source": [
    "4.3.2 Задание\n",
    "\n",
    "Задача:\n",
    "Дана функция\n",
    "Создать массив из 10 значений\n",
    "функции (𝑥, например, изменяется от 1 до 10). Выделить срез первой\n",
    "половины массива и построить графики для основного массива –\n",
    "линейный и для среза – точечный\n",
    "Решение:"
   ],
   "metadata": {
    "collapsed": false,
    "pycharm": {
     "name": "#%% md\n"
    }
   }
  },
  {
   "cell_type": "code",
   "execution_count": 9,
   "outputs": [
    {
     "data": {
      "text/plain": "<Figure size 1000x700 with 1 Axes>",
      "image/png": "[encoded data removed]"
     },
     "metadata": {},
     "output_type": "display_data"
    },
    {
     "data": {
      "text/plain": "<Figure size 640x480 with 1 Axes>",
      "image/png": "[encoded data removed]"
     },
     "metadata": {},
     "output_type": "display_data"
    }
   ],
   "source": [
    "import numpy as np\n",
    "import matplotlib.pyplot as plt\n",
    "\n",
    "x = np.arange(1, 11, 1)\n",
    "y = np.sqrt(1 + np.e ** np.sqrt(x) + np.cos(x ** 2)) \\\n",
    "    / (np.abs(1 - np.sin(x) ** 3)) \\\n",
    "    + np.log(np.abs(2 * x))\n",
    "\n",
    "fig = plt.figure(figsize=(10, 7))\n",
    "plt.plot(x, y)\n",
    "plt.show()\n",
    "plt.scatter(x[0:6], y[0:6])\n",
    "plt.show()"
   ],
   "metadata": {
    "collapsed": false,
    "pycharm": {
     "name": "#%%\n"
    }
   }
  },
  {
   "cell_type": "markdown",
   "source": [
    "4.3.3 Задание\n",
    "\n",
    "Задача:\n",
    "Дана функция\n",
    "Построить график на интервале (0,10)\n",
    "с шагом 1 с заливкой площади и найти эту площадь\n",
    "под ним. Для вычисления площади воспользуйте функции trapz(),\n",
    "вычисляющей интеграл по правилу трапеции.\n",
    "Для ее корректной работы необходимо подключить следующие\n",
    "библиотеки:\n",
    "from scipy.integrate import simps\n",
    "from numpy import trapz\n",
    "Решение:"
   ],
   "metadata": {
    "collapsed": false,
    "pycharm": {
     "name": "#%% md\n"
    }
   }
  },
  {
   "cell_type": "code",
   "execution_count": 10,
   "outputs": [
    {
     "data": {
      "text/plain": "<Figure size 640x480 with 1 Axes>",
      "image/png": "[encoded data removed]"
     },
     "metadata": {},
     "output_type": "display_data"
    },
    {
     "name": "stdout",
     "output_type": "stream",
     "text": [
      "6.748183214657733\n"
     ]
    }
   ],
   "source": [
    "import numpy\n",
    "from numpy import trapz\n",
    "import matplotlib.pyplot as plt\n",
    "\n",
    "x = numpy.arange(0, 11, 1)\n",
    "y = numpy.abs(numpy.cos(x * numpy.exp(numpy.cos(x) + numpy.log1p(x))))\n",
    "\n",
    "plt.plot(x, y)\n",
    "plt.fill_between(x, y)\n",
    "plt.show()\n",
    "\n",
    "area = trapz(y)\n",
    "print(area)"
   ],
   "metadata": {
    "collapsed": false,
    "pycharm": {
     "name": "#%%\n"
    }
   }
  },
  {
   "cell_type": "markdown",
   "source": [
    "4.3.5 Задание\n",
    "\n",
    "Задача:\n",
    "Создайте простейший калькулятор, включающий основные действия\n",
    "для двух переменных ′ + ′, ′ − ′, ′ ∙ ′, ′ ÷ ′\n",
    "Решение:"
   ],
   "metadata": {
    "collapsed": false,
    "pycharm": {
     "name": "#%% md\n"
    }
   }
  },
  {
   "cell_type": "code",
   "execution_count": 12,
   "outputs": [
    {
     "name": "stdout",
     "output_type": "stream",
     "text": [
      "3.00\n"
     ]
    }
   ],
   "source": [
    "while True:\n",
    "    s = input(\"Знак (+, - ,* ,/): \")\n",
    "    if s == '0':\n",
    "        break\n",
    "    if s in ('+', '-', '*', '/'):\n",
    "        x = float(input(\"x = \"))\n",
    "        y = float(input(\"y = \"))\n",
    "        if s == '+':\n",
    "            print(\"%.2f\" % (x+y))\n",
    "        elif s == '-':\n",
    "            print(\"%.2f\" % (x-y))\n",
    "        elif s == '*':\n",
    "            print(\"%.2f\" % (x*y))\n",
    "        elif s == '/':\n",
    "            if y != 0:\n",
    "                print(\"%.2f\" % (x/y))\n",
    "            else:\n",
    "                print(\"Деление на ноль!\")\n",
    "    else:\n",
    "        print(\"Неверный знак операции!\")"
   ],
   "metadata": {
    "collapsed": false,
    "pycharm": {
     "name": "#%%\n"
    }
   }
  }
 ],
 "metadata": {
  "kernelspec": {
   "display_name": "Python 3",
   "language": "python",
   "name": "python3"
  },
  "language_info": {
   "codemirror_mode": {
    "name": "ipython",
    "version": 2
   },
   "file_extension": ".py",
   "mimetype": "text/x-python",
   "name": "python",
   "nbconvert_exporter": "python",
   "pygments_lexer": "ipython2",
   "version": "2.7.6"
  }
 },
 "nbformat": 4,
 "nbformat_minor": 0
}